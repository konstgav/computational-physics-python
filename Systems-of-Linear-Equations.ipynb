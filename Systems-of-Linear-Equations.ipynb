{
 "cells": [
  {
   "cell_type": "markdown",
   "metadata": {},
   "source": [
    "# Решение систем линейных уравнений "
   ]
  },
  {
   "cell_type": "markdown",
   "metadata": {},
   "source": [
    "Библиотека numpy содержит метод solve для решения систем линейных уравнений. С его помощью можно решить систему линейных алгебраических уравнений вида $Ax = b$, где $A$ - матрица постоянных коэффициентов $a_{00}, a_{01}, a_{02}, ..., a_{N-1 N-1}$, $b$ - вектор правых частей уравнений $b_{0}, b_1, ..., b_{N-1}$, $x$ - вектор неизвестных. Для использования функции solve требуется передать в качестве аргументов $A$ и $b$, в результате функция возвращает $x$. В качестве примера заполним матрицу 3х3 и вектор-столбец правых частей произвольными числами отличными от нуля при помощи функции array и решим полученную систему уравнений. "
   ]
  },
  {
   "cell_type": "code",
   "execution_count": 2,
   "metadata": {},
   "outputs": [
    {
     "name": "stdout",
     "output_type": "stream",
     "text": [
      "Solution of Ax = b:  [ 0.21276596 -0.40425532  1.53191489]\n"
     ]
    }
   ],
   "source": [
    "from numpy.linalg import solve\n",
    "import numpy as np\n",
    "A = np.array([[1,2,3],[2,5,3],[6,2,1]],float)\n",
    "b = np.array([4,3,2],float)\n",
    "x = solve (A,b)\n",
    "print('Solution of Ax = b: ',x)"
   ]
  },
  {
   "cell_type": "markdown",
   "metadata": {},
   "source": [
    "## Метод последовательного исключения Гаусса"
   ]
  },
  {
   "cell_type": "markdown",
   "metadata": {},
   "source": [
    "Один из широкораспространенных методов решения систем линейных уравнения - метод Гаусса. Суть метода заключается в приведении системы уравнений к треугольному виду путем последовательного исключения переменных с помощью элементарных преобразований, поэтому этот алгоритм носит название метод исключения переменных по Гауссу (gauss elimination). На втором этапе последовательно, начиная с последнего уравнения находятся, все неизвестные. Воспользуйтесь [пошаговым описанием метода Гаусса](https://matworld.ru/calculator/gauss-method-online.php) для реализации собственной функции gauss(A,v) в элементарной форме без выбора опорного (ведущего) элемента:"
   ]
  },
  {
   "cell_type": "code",
   "execution_count": null,
   "metadata": {},
   "outputs": [],
   "source": [
    "def gauss(A,b):\n",
    "    N = b.size\n",
    "    x = np.empty(N, float)\n",
    "    \n",
    "    # Gauss eliminaton step\n",
    "    for i in range(N):\n",
    "        \n",
    "        for j in range():\n",
    "\n",
    "    # backward substitution step\n",
    "    for i in range():\n",
    "\n",
    "    return x\n",
    "\n",
    "xGauss = gauss(A,b)\n",
    "print('Solution of Ax = b with homemade Gauss method: ',xGauss)"
   ]
  },
  {
   "cell_type": "markdown",
   "metadata": {},
   "source": [
    "### Поиск опорного элемента (pivoting)\n",
    "Реализованная выше схема неполна. Она работает только в том случае, если на каждом $i$-ом шаге элемент $a_{ii}$ отличен от нуля — иначе мы просто не сможем добиться обнуления остальных коэффициентов в текущем столбце путём прибавления к ним $i$-ой строки.\n",
    "\n",
    "Чтобы сделать алгоритм работающим в таких случаях, как раз и существует процесс выбора опорного элемента (на английском языке это называется одним словом *pivoting*). Он заключается в том, что производится перестановка строк и/или столбцов матрицы, чтобы в нужном элементе $a_{ii}$ оказалось ненулевое число.\n",
    "\n",
    "Заметим, что перестановка строк значительно проще реализуется на компьютере, чем перестановка столбцов: ведь при обмене местами двух каких-то столбцов надо запомнить, что эти две переменных обменялись местами, чтобы затем, при восстановлении ответа, правильно восстановить, какой ответ к какой переменной относится. При перестановке строк никаких таких дополнительных действий производить не надо.\n",
    "\n",
    "Внесите необходимые изменения в функцию gauss(A,b), чтобы реализовать алгоритм выбора главного (ведущего элемента в столбце):\n",
    " - на этапе исключения переменных в методе Гаусса мы перебираем сверху вних все строки матрицы $A$ и все элементы в каждой строке делим на диагональный элемент $a_{ii}$. Если элемент $a_{ii}$ обращается в ноль, возникнет ошибка.\n",
    " - с целью исключения деления на ноль и повышения точности численного решения выбирают ведущий (главный) элемент. Для этого из всех строк, начиная текущей $i$-ой строки и лежащих ниже, выбирают наибольший по модулю элемент в $i$-ом столбце.\n",
    " - меняют местами текущую $i$-ую строку и строку с ведущим элементом. Такое действие позволяет выбрать наибольший возможный делитель $a_{ii}$.\n",
    " - повторяют выбор ведущего элемента в столбце для всех последующих строк в процедуре исключения переменных метода Гаусса."
   ]
  },
  {
   "cell_type": "code",
   "execution_count": 4,
   "metadata": {},
   "outputs": [],
   "source": [
    "def gauss(A,b):\n",
    "    # Add your code here\n",
    "    return x"
   ]
  },
  {
   "cell_type": "code",
   "execution_count": 5,
   "metadata": {},
   "outputs": [
    {
     "name": "stdout",
     "output_type": "stream",
     "text": [
      "Exact solution of Ax = b:  [ 0.2173913  -0.47826087  1.65217391]\n",
      "Solution of Ax = b with homemade Gauss method:  [ 0.2173913  -0.47826087  1.65217391]\n"
     ]
    }
   ],
   "source": [
    "A = np.array([[0,2,3],[2,5,3],[6,2,1]],float)\n",
    "b = np.array([4,3,2],float)\n",
    "x = solve (A,b)\n",
    "print('Exact solution of Ax = b: ',x)\n",
    "xGauss = gauss(A,b)\n",
    "print('Solution of Ax = b with homemade Gauss method: ',xGauss)"
   ]
  },
  {
   "cell_type": "code",
   "execution_count": 2,
   "metadata": {},
   "outputs": [
    {
     "name": "stdout",
     "output_type": "stream",
     "text": [
      "[ 2. -1. -2.  1.]\n",
      "[ 2. -1. -2.  1.]\n"
     ]
    }
   ],
   "source": [
    "from numpy import array,empty\n",
    "from numpy.linalg import solve\n",
    "\n",
    "A = array([[ 2,  1,  4,  1 ],\n",
    "           [ 3,  4, -1, -1 ],\n",
    "           [ 1, -4,  1,  5 ],\n",
    "           [ 2, -2,  1,  3 ]], float)\n",
    "v = array([ -4, 3, 9, 7 ],float)\n",
    "N = len(v)\n",
    "\n",
    "x = solve (A,v)\n",
    "print(x)\n",
    "\n",
    "# Gaussian elimination\n",
    "for m in range(N):\n",
    "\n",
    "    # Divide by the diagonal element\n",
    "    div = A[m,m]\n",
    "    A[m,:] /= div\n",
    "    v[m] /= div\n",
    "\n",
    "    # Now subtract from the lower rows\n",
    "    for i in range(m+1,N):\n",
    "        mult = A[i,m]\n",
    "        A[i,:] -= mult*A[m,:]\n",
    "        v[i] -= mult*v[m]\n",
    "\n",
    "# Backsubstitution\n",
    "x = empty(N,float)\n",
    "for m in range(N-1,-1,-1):\n",
    "    x[m] = v[m]\n",
    "    for i in range(m+1,N):\n",
    "        x[m] -= A[m,i]*x[i]\n",
    "\n",
    "print(x)"
   ]
  },
  {
   "cell_type": "code",
   "execution_count": 3,
   "metadata": {},
   "outputs": [
    {
     "data": {
      "image/png": "[encoded data removed]",
      "text/plain": [
       "<Figure size 432x288 with 1 Axes>"
      ]
     },
     "metadata": {
      "needs_background": "light"
     },
     "output_type": "display_data"
    }
   ],
   "source": [
    "from numpy import zeros,empty\n",
    "from pylab import plot,show\n",
    "\n",
    "# Constants\n",
    "N = 26\n",
    "C = 1.0\n",
    "m = 1.0\n",
    "k = 6.0\n",
    "omega = 2.0\n",
    "alpha = 2*k-m*omega*omega\n",
    "\n",
    "# Set up the initial values of the arrays\n",
    "A = zeros([N,N],float)\n",
    "for i in range(N-1):\n",
    "    A[i,i] = alpha\n",
    "    A[i,i+1] = -k\n",
    "    A[i+1,i] = -k\n",
    "A[0,0] = alpha - k\n",
    "A[N-1,N-1] = alpha - k\n",
    "\n",
    "v = zeros(N,float)\n",
    "v[0] = C\n",
    "\n",
    "# Perform the Gaussian elimination\n",
    "for i in range(N-1):\n",
    "\n",
    "    # Divide row i by its diagonal element\n",
    "    A[i,i+1] /= A[i,i]\n",
    "    v[i] /= A[i,i]\n",
    "\n",
    "    # Now subtract it from the next row down\n",
    "    A[i+1,i+1] -= A[i+1,i]*A[i,i+1]\n",
    "    v[i+1] -= A[i+1,i]*v[i]\n",
    "\n",
    "# Divide the last element of v by the last diagonal element\n",
    "v[N-1] /= A[N-1,N-1]\n",
    "\n",
    "# Backsubstitution\n",
    "x = empty(N,float)\n",
    "x[N-1] = v[N-1]\n",
    "for i in range(N-2,-1,-1):\n",
    "    x[i] = v[i] - A[i,i+1]*x[i+1]\n",
    "\n",
    "# Make a plot using both dots and lines\n",
    "plot(x)\n",
    "plot(x,\"ko\")\n",
    "show()"
   ]
  },
  {
   "cell_type": "code",
   "execution_count": 5,
   "metadata": {},
   "outputs": [
    {
     "data": {
      "image/png": "[encoded data removed]",
      "text/plain": [
       "<Figure size 432x288 with 1 Axes>"
      ]
     },
     "metadata": {
      "needs_background": "light"
     },
     "output_type": "display_data"
    }
   ],
   "source": [
    "from numpy import empty,zeros\n",
    "from banded import banded\n",
    "from pylab import plot,show\n",
    "\n",
    "# Constants\n",
    "N = 26\n",
    "C = 1.0\n",
    "m = 1.0\n",
    "k = 6.0\n",
    "omega = 2.0\n",
    "alpha = 2*k-m*omega*omega\n",
    "\n",
    "# Set up the initial values of the arrays\n",
    "A = empty([3,N],float)\n",
    "for i in range(N):\n",
    "    A[0,i] = -k\n",
    "    A[1,i] = alpha\n",
    "    A[2,i] = -k\n",
    "A[1,0] = alpha - k\n",
    "A[1,N-1] = alpha - k\n",
    "\n",
    "v = zeros(N,float)\n",
    "v[0] = C\n",
    "\n",
    "# Solve the equations\n",
    "x = banded(A,v,1,1)\n",
    "\n",
    "# Make a plot using both dots and lines\n",
    "plot(x)\n",
    "plot(x,\"ko\")\n",
    "show()"
   ]
  },
  {
   "cell_type": "code",
   "execution_count": null,
   "metadata": {},
   "outputs": [],
   "source": []
  },
  {
   "cell_type": "code",
   "execution_count": null,
   "metadata": {},
   "outputs": [],
   "source": []
  },
  {
   "cell_type": "code",
   "execution_count": null,
   "metadata": {},
   "outputs": [],
   "source": []
  }
 ],
 "metadata": {
  "kernelspec": {
   "display_name": "Python 3",
   "language": "python",
   "name": "python3"
  },
  "language_info": {
   "codemirror_mode": {
    "name": "ipython",
    "version": 3
   },
   "file_extension": ".py",
   "mimetype": "text/x-python",
   "name": "python",
   "nbconvert_exporter": "python",
   "pygments_lexer": "ipython3",
   "version": "3.6.9"
  }
 },
 "nbformat": 4,
 "nbformat_minor": 2
}
