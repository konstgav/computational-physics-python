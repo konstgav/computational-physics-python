{
 "cells": [
  {
   "cell_type": "markdown",
   "metadata": {},
   "source": [
    "# Упражнения на численное интегрирование обыкновенных дифференциальных уравнений"
   ]
  },
  {
   "cell_type": "markdown",
   "metadata": {},
   "source": [
    "## 1. Фильтр нижних частот (a low-pass filter)"
   ]
  },
  {
   "cell_type": "markdown",
   "metadata": {},
   "source": [
    "Простейшая электрическая цепь, содержащая резистор и конденсатор, является фильтром низких частот: сигнал подается на левую часть фильтра, а с правой снимается отфильтрованный выход."
   ]
  },
  {
   "cell_type": "markdown",
   "metadata": {},
   "source": [
    "![Фильтр нижних частот](http://avr-start.ru/wp-content/uploads/2013/06/a5-6.png)"
   ]
  },
  {
   "cell_type": "markdown",
   "metadata": {},
   "source": [
    "Полагаем, что у нагрузки очень высокое сопротивление, тогда на нагузку  отвлетвяется очень малый ток. Пусть $I$ - сила тока, текущего через резистор $R$, заряд конденсатора $q$, а его емкость $C$, тогда:\n",
    "\n",
    "$$ IR = U_{in} - U_{out}, \\quad q = CU_{out}, \\quad I = \\frac{dq}{dt}.$$\n",
    "\n",
    "Такая задача сводится к дифференциальному уравнению:\n",
    "\n",
    "$$\\frac{dU_{out}}{dt} = \\frac{1}{RC}\\left( U_{in} - U_{out} \\right).$$"
   ]
  },
  {
   "cell_type": "markdown",
   "metadata": {},
   "source": [
    "1. Напишите программу для решения диф. уравнения для $U_{out}$, используя метод Рунге-Кутта 4-го порядка.\n",
    "2. В качестве входного сигнала используйте импульсы с частотой равной 1 и амплитудой равной 1: $ U_{in} = \\pm 1.$\n",
    "3. Постройте графики $U_{out}(t)$ в диапозоне $0 < t < 10$, при $\\tau = RC = 0.01, 0.1, 1$ с начальным условием $U_{out}(0) = 0$.\n",
    "4. Используйте различные величины для шага по времени $h$, мелкий шаг дает более точный результат, но требует больше времени расчета.\n",
    "5. На основении полученных графиков, поясните с физической точки зрения как работает фильтр нижних частот."
   ]
  },
  {
   "cell_type": "code",
   "execution_count": 8,
   "metadata": {},
   "outputs": [
    {
     "data": {
      "image/png": "[encoded data removed]",
      "text/plain": [
       "<Figure size 432x288 with 1 Axes>"
      ]
     },
     "metadata": {
      "needs_background": "light"
     },
     "output_type": "display_data"
    }
   ],
   "source": [
    "import numpy as np\n",
    "import matplotlib.pyplot as plt\n",
    "\n",
    "def Uin(t):\n",
    "    res = -1\n",
    "    if (int)(2*t)%2 == 0:\n",
    "        res = 1\n",
    "    return res\n",
    "\n",
    "N = 101\n",
    "time = np.linspace(0,10,N)\n",
    "U = np.empty(N, float)\n",
    "for i in range(N):\n",
    "    U[i]=Uin(time[i])\n",
    "\n",
    "plt.plot(time,U)\n",
    "plt.xlabel('t')\n",
    "plt.ylabel('U_in')\n",
    "plt.show()    "
   ]
  },
  {
   "cell_type": "markdown",
   "metadata": {},
   "source": [
    "## 2. Нелинейный маятник"
   ]
  },
  {
   "cell_type": "markdown",
   "metadata": {},
   "source": [
    "При отклонении математического маятника на угол, значительно превосходящий $5^{\\circ} - 6^{\\circ}$ град. уравнение движения является нелинейным дифференциальным уравнением:\n",
    "\n",
    "$$ \\frac{d^2 \\theta}{dt^2} = -\\frac{g}{l} \\sin \\theta.$$\n",
    "\n",
    "Уравнение второго порядка сводится к системе уравнений первого порядка:\n",
    "\n",
    "$$ \\frac{d \\theta}{dt} = \\omega, \\quad \\frac{d \\omega}{dt} = -\\frac{g}{l} \\sin \\theta.$$"
   ]
  },
  {
   "cell_type": "markdown",
   "metadata": {},
   "source": [
    "1. Напишите программу для решения систему уравнений, описывающих колебания *нелинейного* маятника, полагая l = 10 см.\n",
    "2. Проведените расчет угла отклонения маятника от вертикали $\\theta$ для нескольких периодов колебаний, если в начальный момент времени угол отклонения составяет $\\theta_0 = 179^{\\circ}$.\n",
    "3. Постройте график $\\theta(t)$.\n",
    "4. Создайте анимацию колебаний маятника. Подберите подходящую скорость для ототбражения колебаний."
   ]
  },
  {
   "cell_type": "markdown",
   "metadata": {},
   "source": [
    "## 3. Вынужденные колебания маятника"
   ]
  },
  {
   "cell_type": "markdown",
   "metadata": {},
   "source": [
    "Под дейсвтвием горизонтальной периодической внешней силы маятник совершает колебания по закону:\n",
    "\n",
    "$$ \\frac{d^2 \\theta}{dt^2} = -\\frac{g}{l} \\sin \\theta + C\\cos\\theta \\sin \\Omega t$$"
   ]
  },
  {
   "cell_type": "markdown",
   "metadata": {},
   "source": [
    "1. Напишите программу для решения этого уравнения при $l = 10 cm, C = 2 s^{-2}, \\Omega = 5 s^{-1}$ на отрезке $0<t<100 s$ с нулевыми начальными условиями для смещения и скорости.\n",
    "2. Измените $\\Omega$ при постоянном $C$/"
   ]
  }
 ],
 "metadata": {
  "kernelspec": {
   "display_name": "Python 3",
   "language": "python",
   "name": "python3"
  },
  "language_info": {
   "codemirror_mode": {
    "name": "ipython",
    "version": 3
   },
   "file_extension": ".py",
   "mimetype": "text/x-python",
   "name": "python",
   "nbconvert_exporter": "python",
   "pygments_lexer": "ipython3",
   "version": "3.6.9"
  }
 },
 "nbformat": 4,
 "nbformat_minor": 2
}
