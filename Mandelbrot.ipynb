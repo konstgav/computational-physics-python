{
 "cells": [
  {
   "cell_type": "markdown",
   "metadata": {},
   "source": [
    "# Создание фрактала Мандельброта"
   ]
  },
  {
   "cell_type": "code",
   "execution_count": 2,
   "metadata": {},
   "outputs": [
    {
     "name": "stderr",
     "output_type": "stream",
     "text": [
      "/home/konst/.local/lib/python3.6/site-packages/ipykernel_launcher.py:17: RuntimeWarning: overflow encountered in square\n",
      "/home/konst/.local/lib/python3.6/site-packages/ipykernel_launcher.py:17: RuntimeWarning: invalid value encountered in square\n"
     ]
    },
    {
     "data": {
      "image/png": "[encoded data removed]",
      "text/plain": [
       "<Figure size 432x288 with 1 Axes>"
      ]
     },
     "metadata": {
      "needs_background": "light"
     },
     "output_type": "display_data"
    }
   ],
   "source": [
    "import numpy as np\n",
    "import matplotlib.pyplot as plt\n",
    "from numpy import newaxis, zeros, empty\n",
    "\n",
    "def compute_mandelbrot(N_max, some_threshold, nx, ny):\n",
    "# A grid of c-values\n",
    "    x = np.linspace(-2, 1, nx)\n",
    "    y = np.linspace(-1.5, 1.5, ny)\n",
    "    c = x[:,newaxis] + 1j*y[newaxis,:]\n",
    "    isMandelbrot = zeros((nx,ny), bool)\n",
    "    mandelbrotValues = zeros((nx,ny), int)\n",
    "    isMandelbrot[:,:] = True\n",
    "\n",
    "# Mandelbrot iteration\n",
    "    z = c\n",
    "    for t in range(N_max):\n",
    "        z = z**2 + c\n",
    "        for i in range(nx):\n",
    "            for j in range(ny):\n",
    "                if abs(z[i,j]) > some_threshold and  isMandelbrot[i,j]:\n",
    "                    mandelbrotValues[i,j] = t\n",
    "                    isMandelbrot[i,j] = False\n",
    "    for i in range(nx):\n",
    "        for j in range(ny):\n",
    "            if isMandelbrot[i,j]:\n",
    "                mandelbrotValues[i,j] = N_max\n",
    "\n",
    "    return mandelbrotValues\n",
    "\n",
    "mandelbrot_set = compute_mandelbrot(20, 200., 601, 401)\n",
    "plt.imshow(mandelbrot_set.T, extent=[-2, 1, -1.5, 1.5])\n",
    "plt.gray()\n",
    "plt.show()"
   ]
  },
  {
   "cell_type": "code",
   "execution_count": null,
   "metadata": {},
   "outputs": [],
   "source": []
  }
 ],
 "metadata": {
  "kernelspec": {
   "display_name": "Python 3.6.9 64-bit",
   "language": "python",
   "name": "python36964bitddf9938552604f76a4a8db07529ca563"
  },
  "language_info": {
   "codemirror_mode": {
    "name": "ipython",
    "version": 3
   },
   "file_extension": ".py",
   "mimetype": "text/x-python",
   "name": "python",
   "nbconvert_exporter": "python",
   "pygments_lexer": "ipython3",
   "version": "3.6.9"
  }
 },
 "nbformat": 4,
 "nbformat_minor": 4
}
