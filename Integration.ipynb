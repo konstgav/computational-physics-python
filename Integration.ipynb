{
 "cells": [
  {
   "cell_type": "markdown",
   "metadata": {},
   "source": [
    "# Численное интегрирование"
   ]
  },
  {
   "cell_type": "code",
   "execution_count": 2,
   "metadata": {},
   "outputs": [
    {
     "name": "stdout",
     "output_type": "stream",
     "text": [
      "4.50656\n"
     ]
    }
   ],
   "source": [
    "def f(x):\n",
    "    return x**4 - 2*x + 1\n",
    "\n",
    "N = 10\n",
    "a = 0.0\n",
    "b = 2.0\n",
    "h = (b-a)/N\n",
    "\n",
    "s = 0.5*f(a) + 0.5*f(b)\n",
    "for k in range(1,N):\n",
    "    s += f(a+k*h)\n",
    "\n",
    "print(h*s)"
   ]
  },
  {
   "cell_type": "code",
   "execution_count": null,
   "metadata": {},
   "outputs": [],
   "source": []
  }
 ],
 "metadata": {
  "kernelspec": {
   "display_name": "Python 3.6.9 64-bit",
   "language": "python",
   "name": "python36964bitddf9938552604f76a4a8db07529ca563"
  },
  "language_info": {
   "codemirror_mode": {
    "name": "ipython",
    "version": 3
   },
   "file_extension": ".py",
   "mimetype": "text/x-python",
   "name": "python",
   "nbconvert_exporter": "python",
   "pygments_lexer": "ipython3",
   "version": "3.6.9"
  }
 },
 "nbformat": 4,
 "nbformat_minor": 4
}
