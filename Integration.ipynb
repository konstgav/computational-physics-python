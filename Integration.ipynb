{
 "cells": [
  {
   "cell_type": "markdown",
   "metadata": {},
   "source": [
    "# Численное интегрирование"
   ]
  },
  {
   "cell_type": "code",
   "execution_count": 2,
   "metadata": {},
   "outputs": [
    {
     "name": "stdout",
     "output_type": "stream",
     "text": [
      "4.50656\n"
     ]
    }
   ],
   "source": [
    "def f(x):\n",
    "    return x**4 - 2*x + 1\n",
    "\n",
    "N = 10\n",
    "a = 0.0\n",
    "b = 2.0\n",
    "h = (b-a)/N\n",
    "\n",
    "s = 0.5*f(a) + 0.5*f(b)\n",
    "for k in range(1,N):\n",
    "    s += f(a+k*h)\n",
    "\n",
    "print(h*s)"
   ]
  },
  {
   "cell_type": "code",
   "execution_count": 3,
   "metadata": {},
   "outputs": [
    {
     "name": "stdout",
     "output_type": "stream",
     "text": [
      "4.4000000000000075\n"
     ]
    }
   ],
   "source": [
    "from gaussxw import gaussxw\n",
    "\n",
    "def f(x):\n",
    "    return x**4 - 2*x + 1\n",
    "\n",
    "N = 3\n",
    "a = 0.0\n",
    "b = 2.0\n",
    "\n",
    "# Calculate the sample points and weights, then map them\n",
    "# to the required integration domain\n",
    "x,w = gaussxw(N)\n",
    "xp = 0.5*(b-a)*x + 0.5*(b+a)\n",
    "wp = 0.5*(b-a)*w\n",
    "\n",
    "# Perform the integration\n",
    "s = 0.0\n",
    "for k in range(N):\n",
    "    s += wp[k]*f(xp[k])\n",
    "\n",
    "print(s)"
   ]
  },
  {
   "cell_type": "code",
   "execution_count": 5,
   "metadata": {},
   "outputs": [
    {
     "name": "stdout",
     "output_type": "stream",
     "text": [
      "4.40000000000000\n",
      "[4.3999999999999995, 0.2666666666666666, 0.016666666666666607, 0.0010416666666666075, 6.510416666660745e-05, 4.069010416607455e-06, 2.5431315098245477e-07, 1.5894571880892272e-08, 9.934106870446158e-10, 6.208811242913725e-11]\n"
     ]
    },
    {
     "data": {
      "image/png": "[encoded data removed]",
      "text/plain": [
       "<Figure size 432x288 with 1 Axes>"
      ]
     },
     "metadata": {
      "needs_background": "light"
     },
     "output_type": "display_data"
    }
   ],
   "source": [
    "# Integration methods\n",
    "from scipy.integrate import quad\n",
    "from pylab import loglog, show, xlabel, ylabel, legend\n",
    "from sympy import integrate, symbols\n",
    "from math import sin, cos\n",
    "from numpy import sum, linspace\n",
    "\n",
    "def trapezoid(a,b,N):\n",
    "\th = (b-a)/N\n",
    "\tsum = 0.5*(f(a)+f(b))\n",
    "\tx = a\n",
    "\tfor i in range(1,N):\n",
    "\t\tx += h\n",
    "\t\tsum += f(x)\n",
    "\treturn sum*h\n",
    "\n",
    "def simpson(a,b,f,N):\n",
    "\th = (b-a)/N\n",
    "\tx = linspace(a,b,N+1)\n",
    "\ty = f(x)\n",
    "\treturn h/3.*sum(y[0:-1:2] + 4*y[1::2] + y[2::2])\n",
    "\n",
    "def f(x):\n",
    "\treturn x**4 - 2*x + 1\n",
    "a=0.\n",
    "b=2.\n",
    "TrapezoidResiduals = []\n",
    "SimpsonResiduals = []\n",
    "Nsteps = [] \n",
    "x = symbols('x')\n",
    "IntAnalytic = integrate(x**4 - 2*x + 1, (x, a, b))\n",
    "integr = integrate(x**4 - 2*x + 1)\n",
    "print(integr.subs(x,b))\n",
    "IntScipy = quad(f,a,b)[0]\n",
    "for i in range(10):\n",
    "\tN = 2**i\n",
    "\tNsteps.append(N)\n",
    "\tTrapezoidResiduals.append(abs(trapezoid(a,b,N)-IntScipy))\n",
    "\tSimpsonResiduals.append(abs(simpson(a,b,f,N)-IntScipy))\n",
    "print (SimpsonResiduals)\n",
    "\n",
    "loglog(Nsteps,TrapezoidResiduals, '-r', label='trapeziod')\n",
    "loglog(Nsteps,SimpsonResiduals, '-b', label='simpson')\n",
    "xlabel('N')\n",
    "ylabel('error')\n",
    "legend()\n",
    "show()"
   ]
  },
  {
   "cell_type": "code",
   "execution_count": 6,
   "metadata": {},
   "outputs": [
    {
     "name": "stdout",
     "output_type": "stream",
     "text": [
      "0.8862269254528349\n"
     ]
    }
   ],
   "source": [
    "from gaussxw import gaussxwab\n",
    "from math import exp\n",
    "\n",
    "def f(z):\n",
    "    return exp(-z**2/(1-z)**2)/(1-z)**2\n",
    "\n",
    "N = 50\n",
    "a = 0.0\n",
    "b = 1.0\n",
    "x,w = gaussxwab(N,a,b)\n",
    "s = 0.0\n",
    "for k in range(N):\n",
    "    s += w[k]*f(x[k])\n",
    "print(s)"
   ]
  },
  {
   "cell_type": "code",
   "execution_count": null,
   "metadata": {},
   "outputs": [],
   "source": []
  }
 ],
 "metadata": {
  "kernelspec": {
   "display_name": "Python 3.6.9 64-bit",
   "language": "python",
   "name": "python36964bitddf9938552604f76a4a8db07529ca563"
  },
  "language_info": {
   "codemirror_mode": {
    "name": "ipython",
    "version": 3
   },
   "file_extension": ".py",
   "mimetype": "text/x-python",
   "name": "python",
   "nbconvert_exporter": "python",
   "pygments_lexer": "ipython3",
   "version": "3.6.9"
  }
 },
 "nbformat": 4,
 "nbformat_minor": 4
}
