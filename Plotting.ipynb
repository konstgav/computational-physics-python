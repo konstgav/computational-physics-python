{
 "cells": [
  {
   "cell_type": "markdown",
   "metadata": {},
   "source": [
    "# Построение графиков"
   ]
  },
  {
   "cell_type": "code",
   "execution_count": null,
   "metadata": {},
   "outputs": [],
   "source": []
  },
  {
   "cell_type": "markdown",
   "metadata": {},
   "source": [
    "## Задания для самостоятельной работы"
   ]
  },
  {
   "cell_type": "markdown",
   "metadata": {},
   "source": [
    "### Задание 1\n",
    "Файл [sunspots.txt](http://www-personal.umich.edu/~mejn/computational-physics/sunspots.txt) описывает наблюдаемое количество солнечных пятен на каждом месяце с января 1749 года. Файл содержит два столбца чисел, первый из которых является месяцем, а второй - число солнечных пятен.\n",
    "  - Напишите программу, которая считывает данные и создает график солнечных пятен как функцию время.\n",
    "  - Измените вашу программу так, чтобы на графике отображались только первые 1000 точек данных.\n",
    "  - Доработайте вашу программу, чтобы рассчитать и построить график скользящего среднего значения (период сглаживания взять равным 10 точек).\n",
    "  - Нанесите на исходный график и исходные данные, и скользящее среднее в диапазоне, охватываемом первыми 1000 точками данных.\n",
    "https://ru.wikipedia.org/wiki/Скользящая_средняя"
   ]
  },
  {
   "cell_type": "markdown",
   "metadata": {},
   "source": [
    "### Задание 2\n",
    "Построить интерференционную картину от двух сферических волн одинаковой амплитуды и частоты, каждая из которых задается законом синуса. Источники волн находятся в точках $(x_1, y_1)$ и $(x_2, y_2)$. Таким образом, требуется рассчитать и визуализировать распределение $\\sin(kr_1)+\\sin(kr_2)$, где $k$ - заданное волновое число,\n",
    "$$r_1 = \\sqrt{(x-x_1)^2+(y-y_1)^2}$$\n",
    "$$r_2 = \\sqrt{(x-x_2)^2+(y-y_2)^2}$$ "
   ]
  },
  {
   "attachments": {},
   "cell_type": "markdown",
   "metadata": {},
   "source": [
    "![interference](img/interference.png)"
   ]
  }
 ],
 "metadata": {
  "kernelspec": {
   "display_name": "Python 3.6.9 64-bit",
   "language": "python",
   "name": "python36964bitddf9938552604f76a4a8db07529ca563"
  },
  "language_info": {
   "codemirror_mode": {
    "name": "ipython",
    "version": 3
   },
   "file_extension": ".py",
   "mimetype": "text/x-python",
   "name": "python",
   "nbconvert_exporter": "python",
   "pygments_lexer": "ipython3",
   "version": "3.6.9"
  }
 },
 "nbformat": 4,
 "nbformat_minor": 4
}
