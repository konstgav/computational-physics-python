{
 "cells": [
  {
   "cell_type": "markdown",
   "metadata": {},
   "source": [
    "# Кинетика растекания жидкости в капилляре"
   ]
  },
  {
   "cell_type": "markdown",
   "metadata": {},
   "source": [
    "## Постановка задачи"
   ]
  },
  {
   "cell_type": "markdown",
   "metadata": {},
   "source": [
    "Рассмотрим течение смачивающей жидкости в цилиндрическом капилляре радиуса $R$, расположенном под углом $\\alpha$ к горизонту. При перемещении столба жидкости изменение свободной энергии системы составляет\n",
    "$$\\Delta F = \\Delta S (\\sigma_{13} - \\sigma_{12}), $$\n",
    "где $\\Delta S = 2 \\pi R x$ -- изменение площади сопрокосновения жидкости и капилляра, $\\sigma_{13}$ -- межфазное натяжение материала капилляра и жидкости, $\\sigma_{12}$ -- межфазное натяжение материала капилляра и внешней среды (воздуха), $x$ -- смещение жидкости в капилляре. "
   ]
  },
  {
   "cell_type": "markdown",
   "metadata": {},
   "source": [
    "Движущая сила растекания (капиллярная сила):\n",
    "$$f_1 = -\\frac{\\Delta F}{x} = 2 \\pi R (\\sigma_{12} - \\sigma_{13}).$$"
   ]
  },
  {
   "cell_type": "markdown",
   "metadata": {},
   "source": [
    "На столб жидкости длиной $x$ и плотности $\\rho$ действует составляющая силы тяжести: \n",
    "$$f_2 = - mg \\sin \\alpha = - \\pi R^2 x \\rho g \\sin \\alpha.$$"
   ]
  },
  {
   "cell_type": "markdown",
   "metadata": {},
   "source": [
    "Сила вязкого трения со стороны стенки капилляра определяется по закону Ньютона:\n",
    "$$f_3 = 2\\pi R x \\eta \\frac{dv}{dr}(r = R),$$\n",
    "где $\\eta$ -- вязкость жидкости, $v(r)$ -- функция распределения скорости вдоль радиуса. При квазистационаном течении (т.е. для больших времен) можно счиатать, что распределение скорости и расход жидкости $Q$ подчиняются [закону Пуазейля](https://ru.wikipedia.org/wiki/%D0%97%D0%B0%D0%BA%D0%BE%D0%BD_%D0%9F%D1%83%D0%B0%D0%B7%D1%91%D0%B9%D0%BB%D1%8F):\n",
    "$$ v = \\frac{\\Delta p}{4 \\eta x}\\left( R^2 - r^2 \\right),  \\quad Q = \\frac{\\pi \\Delta p R^4}{8 \\eta x},$$\n",
    "где $\\Delta p$ -- разность давлений (прокачка). Выражаем расход жидкости через среднюю скорость $\\dot{x}$ $Q = \\pi R^2 \\dot{x}$, тогда давление\n",
    "$$\\Delta p = \\frac{8\\eta x \\dot{x}}{R^2}.$$\n",
    "Сдвиг скорости на границе капилляра при $r = R$ \n",
    "$$\\frac{dv}{dr} = -\\frac{\\Delta p R}{2 \\eta x}.$$\n",
    "Тогда сила трения составит\n",
    "$$f_3 = - 8 \\eta \\pi x \\dot{x}.$$"
   ]
  },
  {
   "cell_type": "markdown",
   "metadata": {},
   "source": [
    "Равнодействующая трех сил оперделяет скорость изменения импульса жидкости массы $m$\n",
    "$$\\frac{d(m\\dot{x})}{dt} = \\frac{dm}{dt}\\dot{x} + m\\ddot{x} = f_1 + f_2 + f_3,$$\n",
    "или\n",
    "$$\\pi \\rho R^2 (\\dot{x})^2 + \\pi \\rho R^2  x \\ddot{x} = 2 \\pi R (\\sigma_{12} - \\sigma_{13}) - \\pi R^2 x \\rho g \\sin \\alpha - 8 \\eta \\pi x \\dot{x}, $$\n",
    "откуда\n",
    "$$\\ddot{x} + \\frac{1}{x}(\\dot{x})^2 + \\frac{8\\eta}{\\rho R^2}\\dot{x} + g \\sin \\alpha - \\frac{2(\\sigma_{12}-\\sigma_{13})}{\\rho R x} = 0.$$"
   ]
  },
  {
   "cell_type": "markdown",
   "metadata": {},
   "source": [
    "## Аналитическое решение при $\\alpha = 0$"
   ]
  },
  {
   "cell_type": "markdown",
   "metadata": {},
   "source": [
    "Течение горизонтальном капилляре описывается уравнением\n",
    "$$\\ddot{x} + \\frac{1}{x}(\\dot{x})^2 + a_1\\dot{x} - \\frac{b_1}{x} = 0,$$\n",
    "где \n",
    "$$ a_1 = \\frac{8\\eta}{\\rho R^2}, \\quad b_1 = \\frac{2(\\sigma_{12}-\\sigma_{13})}{\\rho R}.$$"
   ]
  },
  {
   "cell_type": "markdown",
   "metadata": {},
   "source": [
    "Решим это дифференциальное уравнение, после домножения на $x$ получим\n",
    "$$\\frac{d(x \\dot{x})}{dt} + a_1 x \\dot{x} - b_1 = 0, $$\n",
    "откуда\n",
    "$$x \\dot{x} = Ce^{-a_1t}+\\frac{b_1}{a_1}.$$"
   ]
  },
  {
   "cell_type": "markdown",
   "metadata": {},
   "source": [
    "Постоянную интегрирования $C$ находим из следующего условия. В начальный момент времени $x \\dot{x} = 0$, поэтому\n",
    "$$ x \\dot{x} = \\frac{b_1}{a_1} \\left(1 - e^{-a_1t}+ \\right).$$\n",
    "Интегрируем\n",
    "$$ x^2 = \\frac{2b_1}{a_1} \\left(t + \\frac{e^{-a_1t}}{a_1}+ C \\right).$$\n",
    "Постоянную интегрирования $C$ находим из условия $x(t = 0) = 0$\n",
    "$$ x^2 = \\frac{2b_1}{a_1} \\left(t + \\frac{e^{-a_1t} - 1}{a_1}\\right).$$"
   ]
  },
  {
   "cell_type": "markdown",
   "metadata": {},
   "source": [
    "Введем характерное время растекания $\\tau = \\frac{1}{a_1} = \\frac{\\rho R^2}{8\\eta}$. Для оценки примем $R = 1$ мм, $\\rho = 1$ г/см3, $\\eta = 1$ сПуаз, тогда $\\tau \\approx 0.1$ c."
   ]
  },
  {
   "cell_type": "markdown",
   "metadata": {},
   "source": [
    "Для малых времен растекания капли $t \\ll \\tau$ воспользуемся разложением в ряд Тейлора\n",
    "$$e^{-a_1t} = 1 - a_1t + \\frac{(a_1t)^2}{2} + \\dots$$"
   ]
  },
  {
   "cell_type": "markdown",
   "metadata": {},
   "source": [
    "После подстановки получим линейный закон растекания $x = \\sqrt{b_1}t$, который соотвествует так называемому инерционному режиму растекания, кода инерционными силами $d(m\\dot{x})/dt$ пренебрегать нельзя. Данные о кинетике растекания в инерционном режиме подтвержаются результатами высокоскоростной съемки, в частности  $x \\sim \\left(\\sigma_{23}/R \\right)^{0.5}$."
   ]
  },
  {
   "cell_type": "markdown",
   "metadata": {},
   "source": [
    "Для больших времен $t \\gg \\tau$ закон растекания преобразуется в\n",
    "$$x^2 = \\frac{2b_1}{a_1}t = \\frac{R(\\sigma_{12} - \\sigma_{13})}{2\\eta}t,$$\n",
    "которое можно записать в виде\n",
    "$$x^2 = \\frac{R\\sigma_{23} \\cos \\theta_0}{2\\eta}t,$$\n",
    "если воспользоваться уловием Юнга $\\sigma_{12} - \\sigma_{13} = \\sigma_{23} \\cos \\theta_0$."
   ]
  },
  {
   "cell_type": "markdown",
   "metadata": {},
   "source": [
    "## Аналитическое решение при $\\alpha \\ne 0$"
   ]
  },
  {
   "cell_type": "markdown",
   "metadata": {},
   "source": [
    "Рассмотрим случай растекания жидкости в капилляре, расположенном наклонно $(\\alpha \\ne 0)$. Пренебрегая инерционными слагаемыми, получим\n",
    "$$\\dot{x} = \\frac{R^2(x_0-x)}{8\\eta x}\\rho g \\sin \\alpha,$$\n",
    "где $x_0$ -- максимальное перемещение жидкости в капилляре\n",
    "$$ x_0 = \\frac{2(\\sigma_{12} - \\sigma_{13})}{\\rho g R \\sin \\alpha}.$$\n"
   ]
  },
  {
   "cell_type": "markdown",
   "metadata": {},
   "source": [
    "Интегрируем уравнение, находим\n",
    "$$\\ln \\frac{x_0-x}{x_0} + \\frac{x}{x_0} = - \\frac{\\rho g R^2 \\sin \\alpha}{8\\eta x_0}t.$$"
   ]
  },
  {
   "cell_type": "markdown",
   "metadata": {},
   "source": [
    "Раскладываем полученное решение в ряд по степеням $x/x_0$, получим\n",
    "$$\\frac{x^2}{x_0^2}\\left(\\frac{1}{2}+ \\frac{1}{3} \\frac{x}{x_0} + \\frac{1}{4} \\frac{x^2}{x_0^2} + \\frac{1}{5} \\frac{x^3}{x_0^3} + \\dots \\right) = \\frac{\\rho g R^2 \\sin \\alpha}{8\\eta x_0}t.$$"
   ]
  },
  {
   "cell_type": "markdown",
   "metadata": {},
   "source": [
    "При $x \\ll x_0$ на начальных стадиях процесса получаем решение $x^2 = \\frac{R(\\sigma_{12} - \\sigma_{13})}{2\\eta}t$. "
   ]
  },
  {
   "cell_type": "markdown",
   "metadata": {},
   "source": [
    "## Решение дифференциального уравнения для описания кинетики жидкости в капилляре:\n",
    "## cравнение численного и аналитического решений"
   ]
  },
  {
   "cell_type": "markdown",
   "metadata": {},
   "source": [
    "### Правые части дифференциальных уравнений"
   ]
  },
  {
   "cell_type": "code",
   "execution_count": 5,
   "metadata": {},
   "outputs": [],
   "source": [
    "def rhs(x, t, a1, b1, g, alpha):\n",
    "    return [x[1], - x[1]**2/x[0] - a1*x[1] + b1/x[0] - g*np.sin(alpha)]"
   ]
  },
  {
   "cell_type": "markdown",
   "metadata": {},
   "source": [
    "### Численные значение физических величин в системе СИ:"
   ]
  },
  {
   "cell_type": "code",
   "execution_count": 6,
   "metadata": {},
   "outputs": [],
   "source": [
    "R = 1e-3\n",
    "eta = 1e-3\n",
    "rho = 1e3\n",
    "g = 10\n",
    "sigma = 0.07\n",
    "alpha = 0\n",
    "a1 = 8*eta/(rho*R**2)\n",
    "b1 = 2*sigma/(rho*R)"
   ]
  },
  {
   "cell_type": "markdown",
   "metadata": {},
   "source": [
    "### Случай $\\alpha = 0$"
   ]
  },
  {
   "cell_type": "code",
   "execution_count": 7,
   "metadata": {},
   "outputs": [],
   "source": [
    "import numpy as np\n",
    "import matplotlib.pyplot as plt\n",
    "from scipy.integrate import odeint\n",
    "t = np.linspace(0, 5, 500)\n",
    "x0 = np.array([0.0001, 0.0001]) # Initial conditions\n",
    "res = odeint(rhs, x0, t, args=(a1, b1, g, alpha))\n",
    "x_anal = np.sqrt(2*b1/a1*(t + (np.exp(-a1*t) - 1)/a1))\n",
    "x_anal_inert = np.sqrt(b1)*t\n",
    "x_anal_noninert = np.sqrt(2*b1/a1*t)"
   ]
  },
  {
   "cell_type": "markdown",
   "metadata": {},
   "source": [
    "### Визуализация результатов"
   ]
  },
  {
   "cell_type": "code",
   "execution_count": 8,
   "metadata": {},
   "outputs": [
    {
     "output_type": "display_data",
     "data": {
      "text/plain": "<Figure size 432x288 with 1 Axes>",
      "image/png": "[encoded data removed]"
     },
     "metadata": {
      "needs_background": "light"
     }
    }
   ],
   "source": [
    "plt.title(r'Динамика жидкости в капилляре при $\\alpha = 0$')\n",
    "plt.xlabel(r'$t$')\n",
    "plt.ylabel(r'$x$')\n",
    "plt.plot(t, res[:,0], label = 'численно')\n",
    "plt.plot(t[::20], x_anal[::20], 'o', color = 'blue', label = 'аналитически')\n",
    "plt.plot(t[:40], x_anal_inert[:40], '--', label = 'инерционный режим')\n",
    "plt.plot(t[40:len(t)], x_anal_noninert[40:len(t)], '-.', label = 'неинерционный режим')\n",
    "plt.grid()\n",
    "plt.legend(loc = 'lower right')\n",
    "plt.text(0,0.15,r'$x \\sim t$')\n",
    "plt.text(2,0.31,r'$x \\sim \\sqrt{t}$')\n",
    "plt.show()"
   ]
  },
  {
   "cell_type": "markdown",
   "metadata": {},
   "source": [
    "### Случай $\\alpha \\ne 0$"
   ]
  },
  {
   "cell_type": "code",
   "execution_count": 51,
   "metadata": {},
   "outputs": [],
   "source": [
    "alpha = np.pi/6\n",
    "time = np.linspace(0, 6, 500)\n",
    "x0 = np.array([0.0001, 0.0001]) # Initial conditions\n",
    "res = odeint(rhs, x0, time, args=(a1, b1, g, alpha))"
   ]
  },
  {
   "cell_type": "code",
   "execution_count": 52,
   "metadata": {},
   "outputs": [],
   "source": [
    "def f(x):\n",
    "    x0 = 2*sigma/(rho*g*R*np.sin(alpha))\n",
    "    return t + 8*eta*x0/(rho*g*R**2*np.sin(alpha))*(x/x0 + np.log(1-x/x0))"
   ]
  },
  {
   "cell_type": "code",
   "execution_count": 53,
   "metadata": {},
   "outputs": [],
   "source": [
    "from scipy.optimize import fsolve\n",
    "x_anal = np.empty(len(time), 'float')\n",
    "for i in range(len(time)):\n",
    "    t = time[i]\n",
    "    x_anal[i] = fsolve(f,0.0001)"
   ]
  },
  {
   "cell_type": "markdown",
   "metadata": {},
   "source": [
    "### Визуализация результатов"
   ]
  },
  {
   "cell_type": "code",
   "execution_count": 55,
   "metadata": {},
   "outputs": [
    {
     "output_type": "display_data",
     "data": {
      "text/plain": "<Figure size 432x288 with 1 Axes>",
      "image/png": "[encoded data removed]"
     },
     "metadata": {
      "needs_background": "light"
     }
    }
   ],
   "source": [
    "plt.title(r'Динамика жидкости в капилляре при $\\alpha = \\pi/6$')\n",
    "plt.xlabel(r'$t$')\n",
    "plt.ylabel(r'$x$')\n",
    "plt.plot(time, x_anal, '--', label = 'неинерционный режим')\n",
    "plt.plot(time, res[:, 0], label = 'численно')\n",
    "plt.grid()\n",
    "plt.legend(loc = 'lower right')\n",
    "plt.show()"
   ]
  },
  {
   "cell_type": "code",
   "execution_count": null,
   "metadata": {},
   "outputs": [],
   "source": []
  }
 ],
 "metadata": {
  "kernelspec": {
   "display_name": "Python 3.6.9 64-bit",
   "language": "python",
   "name": "python36964bitddf9938552604f76a4a8db07529ca563"
  },
  "language_info": {
   "codemirror_mode": {
    "name": "ipython",
    "version": 3
   },
   "file_extension": ".py",
   "mimetype": "text/x-python",
   "name": "python",
   "nbconvert_exporter": "python",
   "pygments_lexer": "ipython3",
   "version": "3.6.9-final"
  }
 },
 "nbformat": 4,
 "nbformat_minor": 4
}