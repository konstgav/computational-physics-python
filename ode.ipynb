{
 "cells": [
  {
   "cell_type": "markdown",
   "metadata": {},
   "source": [
    "# Численное решение обыкновенных дифференциальных уравнений"
   ]
  },
  {
   "cell_type": "markdown",
   "metadata": {},
   "source": [
    "## Уравнения Лотки-Вольтерры"
   ]
  },
  {
   "cell_type": "markdown",
   "metadata": {},
   "source": [
    "### TODO:\n",
    "- Найти стационарные решения уравнений Лотки-Вольтерры, сравнить с численным результатом;\n",
    "- На графиках завимостей $x(t), y(t)$ построить стационарные решения;\n",
    "- Получить выражение для периода колебаний в линеаризованной задаче, сравнить с численным результатом;\n",
    "- Провеcти моделирование для случая 1: $x_0 = 0, y_0 \\neq 0$, для случая 2: $x_0 \\neq 0, y_0 = 0$;\n",
    "- Построить семейство фазовых портретов для различных значений начальных условий;\n",
    "- Исследовать зависимость периода колебаний от начальных условий $T(x_0, y_0)$. Построить график - линии уровня $T(x_0, y_0) = \\text{const}$."
   ]
  },
  {
   "cell_type": "markdown",
   "metadata": {},
   "source": [
    "Рассмотрим систему диференциальных уравнений, описывающих изменение со временем численности популяций кроликов (жертв) - $x(t)$ и лис (хищников) - $y(t)$. Математическая модель, описывающая динамику численности видов, была предложена [Лоткой и Вольтеррой](https://ru.wikipedia.org/wiki/%D0%9C%D0%BE%D0%B4%D0%B5%D0%BB%D1%8C_%D0%9B%D0%BE%D1%82%D0%BA%D0%B8_%E2%80%94_%D0%92%D0%BE%D0%BB%D1%8C%D1%82%D0%B5%D1%80%D1%80%D1%8B) и основывается на следующем соображении. Чем больше кроликов проживает на данной территории, тем больший прирост получит их популяция, с другой стороны, при встрече кролика с хищником популяция кроликов убывает, оба этих факта отражены в первом уравнении системы. Количество лис, наоборот, прирастает пропорцинально произведению численности кроликов и лис. Если кроликов совсем не останется на рассматриваемой территории, то численность лис будет естественным образом убывать, при этом скорость смерности пропорциональна числу лис. $$ \\frac{dx}{dt} = \\alpha x - \\beta x y, \\\\ \\frac{dy}{dt} = \\gamma x y - \\delta y, $$ где $\\alpha$, $\\beta$, $\\gamma$ и $\\delta$ - эмпирические константы.    "
   ]
  },
  {
   "cell_type": "markdown",
   "metadata": {},
   "source": [
    "Рассмотрим скрипт, которых решает рассматриваемую систему уравнений с помощью метода [Рунге-Кутты 4-го порядка точности](https://ru.wikipedia.org/wiki/%D0%9C%D0%B5%D1%82%D0%BE%D0%B4_%D0%A0%D1%83%D0%BD%D0%B3%D0%B5_%E2%80%94_%D0%9A%D1%83%D1%82%D1%82%D1%8B) для значений постоянных $\\alpha = 1$, $\\beta = \\gamma = 0.5$ и $\\delta = 2$ при начальных условиях $x(0) = y(0) = 2$.\n",
    "В первую очередь импортируем необходимые функции библиотек numpy и pylab."
   ]
  },
  {
   "cell_type": "code",
   "execution_count": null,
   "metadata": {},
   "outputs": [],
   "source": [
    "from numpy import linspace, array\n",
    "from pylab import plot, xlabel, ylabel, legend, show"
   ]
  },
  {
   "cell_type": "markdown",
   "metadata": {},
   "source": [
    "Определим функцию-вектор правых частей системы диф. уравнений, на вход она получает вектор неизвестных $r$, время и константы. Нулевой элемент вектора $r$ является численностью жертв, а первый элемент - число хищников."
   ]
  },
  {
   "cell_type": "code",
   "execution_count": null,
   "metadata": {},
   "outputs": [],
   "source": [
    "def f(r, t, alpha, beta, gamma, delta):\n",
    "    x = r[0]\n",
    "    y = r[1]\n",
    "    fx = alpha*x - beta*x*y\n",
    "    fy = gamma*x*y - delta*y\n",
    "    return array([fx, fy], float)"
   ]
  },
  {
   "cell_type": "markdown",
   "metadata": {},
   "source": [
    "Задаем эмпирические константы, шаг по времени, начальные условия $x_0$ и $y_0$. Определяем вектор неизвестных $r$."
   ]
  },
  {
   "cell_type": "code",
   "execution_count": null,
   "metadata": {},
   "outputs": [],
   "source": [
    "a = 0.\n",
    "b = 40.\n",
    "N = 1000\n",
    "h = (b-a)/N\n",
    "alpha = 1.\n",
    "beta = 0.5\n",
    "gamma = 0.5\n",
    "delta = 2.\n",
    "x0 = 2.\n",
    "y0 = 2.\n",
    "time = linspace(a,b,N+1)\n",
    "xpoints = []\n",
    "ypoints = []\n",
    "r = array([x0,y0], float)"
   ]
  },
  {
   "cell_type": "markdown",
   "metadata": {},
   "source": [
    "Основной цикл по времени позволяет вычислить численость популяций в последовательные моменты времени согласно методу Рунге-Кутты 4-го порядка точности. "
   ]
  },
  {
   "cell_type": "code",
   "execution_count": null,
   "metadata": {},
   "outputs": [],
   "source": [
    "for t in time:\n",
    "    xpoints.append(r[0])\n",
    "    ypoints.append(r[1])\n",
    "    k1 = h*f(r, t, alpha, beta, gamma, delta)\n",
    "    k2 = h*f(r+0.5*k1, t+0.5*k1, alpha, beta, gamma, delta)\n",
    "    k3 = h*f(r+0.5*k2, t+0.5*k2, alpha, beta, gamma, delta)\n",
    "    k4 = h*f(r+k3, t+h, alpha, beta, gamma, delta)\n",
    "    r += (k1+2.*k2+2.*k3+k4)/6."
   ]
  },
  {
   "cell_type": "markdown",
   "metadata": {},
   "source": [
    "Для построения графика функции численности хищников и жертв от времени в окне браузера требуется вызвать \"магическую команду\" %matplotlib inline."
   ]
  },
  {
   "cell_type": "code",
   "execution_count": null,
   "metadata": {},
   "outputs": [],
   "source": [
    "%matplotlib inline\n",
    "plot(time, xpoints, 'b', label = 'x')\n",
    "plot(time, ypoints, 'r', label = 'y')\n",
    "xlabel('time')\n",
    "ylabel('x, y')\n",
    "legend()\n",
    "show()"
   ]
  },
  {
   "cell_type": "markdown",
   "metadata": {},
   "source": [
    "Результатом численного решения задачи о динамике популяций хищников и жертв, обитающих на общей территории, могут быть нелинейные колебания (для заданных значений констант наблюдается именно этот режим). Объяснить такое поведением можно тем, что с ростом числа кроликов (синяя линия на рисунке) с некоторым запаздыванием возникает рост числа лис (красная линия на рисунке). По мере роста числа хищников прирост кроликов прекращается, их популяция начинает убывать. Убыль числа кроликов приводит к сокращению числа лис, т.к. последним становится нечем питаться. Как только число хищников спадает, прирост кроликов возрастает и колебание численности повторяется снова."
   ]
  },
  {
   "cell_type": "markdown",
   "metadata": {},
   "source": [
    "Можно показать, что период колебаний числености хищников и жертв вблизи стационарных значений определяется формулой $T = 2 \\pi / \\sqrt{\\alpha \\delta}$. Получите это выражение, определив стационарные значения численностей кроликов и лис, а затем получите уравнение гармонических колебаний для малых отклонений от стационарных значений."
   ]
  },
  {
   "cell_type": "markdown",
   "metadata": {},
   "source": [
    "Воспользуемся стандартной реализацией метода решения дифференциальных уравнений odeint из библиотеки scipy.integrate для уравнений Лотки-Вольтерра."
   ]
  },
  {
   "cell_type": "code",
   "execution_count": null,
   "metadata": {},
   "outputs": [],
   "source": [
    "from scipy.integrate import odeint\n",
    "r0 = array([x0,y0], float)\n",
    "r = odeint(f, r0, time, args = (alpha, beta, gamma, delta))"
   ]
  },
  {
   "cell_type": "markdown",
   "metadata": {},
   "source": [
    "В качестве аргументов функция odeint получает функцию-вектор правых частей диф.уравнений f, начальные условия r0, массив с моментами времени, для которых требуется найти неизвестные значения,  time, а также кортеж параметров args, который нужно передать в функцию f, содержащий набор эмпирических констант."
   ]
  },
  {
   "cell_type": "code",
   "execution_count": null,
   "metadata": {},
   "outputs": [],
   "source": [
    "plot(time, r[:,0], 'b', label = 'x')\n",
    "plot(time,  r[:,1], 'r', label = 'y')\n",
    "xlabel('time')\n",
    "ylabel('x, y')\n",
    "legend()\n",
    "show()"
   ]
  },
  {
   "cell_type": "markdown",
   "metadata": {},
   "source": [
    "Полученный сценарий не является единственным возможным. Если начальная численность одной из популяций равна нулю, то периодический режим не реализуется. Либо и хищники, и жертвы погибают, либо погибают только хищники. Проведите моделирование таких ситуаций для случая 1: $x_0 = 0, y_0 \\neq 0$, для случая 2: $x_0 \\neq 0, y_0 = 0$."
   ]
  },
  {
   "cell_type": "code",
   "execution_count": null,
   "metadata": {},
   "outputs": [],
   "source": [
    "x0 = \n",
    "y0 = \n",
    "time = linspace(a,b,N+1)\n",
    "r0 = array([x0,y0], float)\n",
    "r = odeint(f, r0, time, args = (alpha, beta, gamma, delta))\n",
    "plot(time, r[:,0], 'b', label = 'x')\n",
    "plot(time, r[:,1], 'r', label = 'y')\n",
    "xlabel('time')\n",
    "ylabel('x, y')\n",
    "legend()\n",
    "show()"
   ]
  },
  {
   "cell_type": "markdown",
   "metadata": {},
   "source": [
    "[Фазовый портрет](https://ru.wikipedia.org/wiki/%D0%A4%D0%B0%D0%B7%D0%BE%D0%B2%D0%BE%D0%B5_%D0%BF%D1%80%D0%BE%D1%81%D1%82%D1%80%D0%B0%D0%BD%D1%81%D1%82%D0%B2%D0%BE) динамической системы представляет собой явную зависимость $y(x)$, после исключения параметра времени $t$. Результат численного моделирования дает следующую зависимость:"
   ]
  },
  {
   "cell_type": "code",
   "execution_count": null,
   "metadata": {},
   "outputs": [],
   "source": [
    "x0 = 4.\n",
    "y0 = 4.\n",
    "time = linspace(a,b,N+1)\n",
    "r0 = array([x0,y0], float)\n",
    "r = odeint(f, r0, time, args = (alpha, beta, gamma, delta))\n",
    "plot(r[:,0], r[:,1])\n",
    "xlabel('x')\n",
    "ylabel('y')\n",
    "show()"
   ]
  },
  {
   "cell_type": "markdown",
   "metadata": {},
   "source": [
    "Постройте семейство фазовых портретов для различных значений начальных условий $(x_0, y_0) = (4,1), (4,2), ..., (4,10)$."
   ]
  },
  {
   "cell_type": "code",
   "execution_count": null,
   "metadata": {
    "scrolled": true
   },
   "outputs": [],
   "source": [
    "x0 = 4.\n",
    "y0_vec = linspace()\n",
    "time = linspace(a,b,N+1)\n",
    "for y0 in y0_vec:\n",
    "    r0 = array([x0,y0], float)\n",
    "    r = odeint(f, r0, time, args = (alpha, beta, gamma, delta))\n",
    "    plot(r[:,0], r[:,1])\n",
    "xlabel('x')\n",
    "ylabel('y')\n",
    "show()"
   ]
  },
  {
   "cell_type": "markdown",
   "metadata": {},
   "source": [
    "Уравнения Лотки-Вольтерры допускают интегрирование после разделения переменных: $$ -\\frac{ \\gamma x - \\delta }{x}\\frac{dx}{dt} + \\frac{\\alpha - \\beta y}{y}\\frac{dy}{dt} = 0,$$\n",
    "$$ \\frac{d}{dt} ( \\delta \\log x - \\gamma x + \\alpha \\log y - \\beta y ) = 0. $$\n",
    "Введем функцию $H(x,y) = \\delta \\log x - \\gamma x + \\alpha \\log y - \\beta y$, которая остается постоянной на решений уравнений Лотки-Вольтерры. При ненулевых начальных условиях $𝑥_0 \\neq 0, 𝑦_0 \\neq 0$ функция $H(x,y) = H(x_0,y_0)$ будет принимать конечные значения, фазовая траектория будет замкнутой кривой. \n",
    "Если одно из начальных значений обращается в ноль, то фазовая траектория перестает быть замкнутой кривой - предельным циклом."
   ]
  }
 ],
 "metadata": {
  "kernelspec": {
   "display_name": "Python 3",
   "language": "python",
   "name": "python3"
  },
  "language_info": {
   "codemirror_mode": {
    "name": "ipython",
    "version": 3
   },
   "file_extension": ".py",
   "mimetype": "text/x-python",
   "name": "python",
   "nbconvert_exporter": "python",
   "pygments_lexer": "ipython3",
   "version": "3.5.2"
  }
 },
 "nbformat": 4,
 "nbformat_minor": 2
}
